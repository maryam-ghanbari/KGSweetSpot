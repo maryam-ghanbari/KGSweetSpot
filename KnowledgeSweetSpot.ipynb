{
 "cells": [
  {
   "cell_type": "code",
   "execution_count": null,
   "id": "7ce5067c",
   "metadata": {},
   "outputs": [],
   "source": [
    "!pip install -r requirements.txt"
   ]
  },
  {
   "cell_type": "code",
   "execution_count": null,
   "id": "8023dfab",
   "metadata": {},
   "outputs": [],
   "source": [
    "!bash ./download_raw_data.sh"
   ]
  },
  {
   "cell_type": "code",
   "execution_count": null,
   "id": "a626536c",
   "metadata": {},
   "outputs": [],
   "source": [
    "!python ./preprocess.py --run common"
   ]
  },
  {
   "cell_type": "code",
   "execution_count": null,
   "id": "9dc44a18",
   "metadata": {},
   "outputs": [],
   "source": [
    "!python ./preprocess.py --run csqa"
   ]
  },
  {
   "cell_type": "markdown",
   "id": "7e41d1b3",
   "metadata": {},
   "source": [
    "Subgraph Serialization"
   ]
  },
  {
   "cell_type": "code",
   "execution_count": null,
   "id": "c576dacd",
   "metadata": {},
   "outputs": [],
   "source": [
    "!python ./utils/get_knowledge.py --output ./knowledge/concept_net.dev.csqa.json --serialization triple --scope both"
   ]
  },
  {
   "cell_type": "code",
   "execution_count": null,
   "id": "6b864c91",
   "metadata": {},
   "outputs": [],
   "source": [
    "!CUDA_VISIBLE_DEVICES=0 python ./utils/infer_t5.py --task csqa --model-type google/flan-t5-small --input-path ./knowledge/concept_net.dev.csqa.json"
   ]
  }
 ],
 "metadata": {
  "kernelspec": {
   "display_name": "Python 3",
   "language": "python",
   "name": "python3"
  },
  "language_info": {
   "codemirror_mode": {
    "name": "ipython",
    "version": 3
   },
   "file_extension": ".py",
   "mimetype": "text/x-python",
   "name": "python",
   "nbconvert_exporter": "python",
   "pygments_lexer": "ipython3",
   "version": "3.9.6"
  }
 },
 "nbformat": 4,
 "nbformat_minor": 5
}
